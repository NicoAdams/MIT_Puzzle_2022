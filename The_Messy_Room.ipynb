{
 "cells": [
  {
   "cell_type": "code",
   "execution_count": 4,
   "id": "64c08c01-3a87-4708-b06b-b6362b35ed6b",
   "metadata": {},
   "outputs": [],
   "source": [
    "import numpy as np"
   ]
  },
  {
   "cell_type": "code",
   "execution_count": 51,
   "id": "51912ec3-383d-4b85-a559-2438d1fe62e8",
   "metadata": {},
   "outputs": [],
   "source": [
    "class Trie:\n",
    "    def __init__(self, val, isword=False, children={}, depth=0):\n",
    "        self.val = val\n",
    "        self.isword = isword\n",
    "        self.children = children\n",
    "        self.depth = depth\n",
    "        \n",
    "    def searchWithOptionsList(self, optList):\n",
    "        # Beginning of trie\n",
    "        if self.val=='':\n",
    "            results = []\n",
    "            for c in self.children: results += self.children[c].searchWithOptionsList(optList)\n",
    "            return results\n",
    "        \n",
    "        # Word too long\n",
    "        if len(optList)==0: return []\n",
    "        \n",
    "        # No match\n",
    "        optCurr = optList[0]\n",
    "        if self.val not in optCurr: return []\n",
    "    \n",
    "        # End of word\n",
    "        if len(optList)==1: return [self.val] if self.isword else []\n",
    "        \n",
    "        # Continues search\n",
    "        results = []\n",
    "        for c in self.children: results+=[self.val + r for r in self.children[c].searchWithOptionsList(optList[1:])]\n",
    "        return results\n",
    "    \n",
    "    def __str__(self):\n",
    "        return 'Trie(depth=%i, val=\"%s\", children=%s)' % (\n",
    "            self.depth,\n",
    "            self.val + ('!' if self.isword else ''),\n",
    "            str(list(self.children.keys()))\n",
    "        )\n",
    "\n",
    "def createTrie(wordsList):\n",
    "    trieMaster = Trie('')\n",
    "    for w in wordsList:\n",
    "        currTrie = trieMaster\n",
    "        for c in w:\n",
    "            if c not in currTrie.children: currTrie.children[c] = Trie(c, children={}, depth=currTrie.depth+1)\n",
    "            currTrie = currTrie.children[c]\n",
    "        currTrie.isword = True\n",
    "    return trieMaster"
   ]
  },
  {
   "cell_type": "code",
   "execution_count": 55,
   "id": "eb0e8aad-363f-4653-b01e-3b24c72218a1",
   "metadata": {},
   "outputs": [],
   "source": [
    "alpha = set('qwertyuiopasdfghjklzxcvbnm')\n",
    "wordsRaw = np.array([w.strip().lower() for w in open('english3.txt').readlines()])\n",
    "words = wordsRaw[[np.all([(c in alpha) for c in w]) for w in wordsRaw]]"
   ]
  },
  {
   "cell_type": "code",
   "execution_count": 56,
   "id": "b60ed67a-f312-4921-8470-5aa1ce64d8f8",
   "metadata": {},
   "outputs": [],
   "source": [
    "t = createTrie(words)"
   ]
  },
  {
   "cell_type": "code",
   "execution_count": 68,
   "id": "46e7ad2c-0559-4e18-9f77-972c6c0ca082",
   "metadata": {},
   "outputs": [
    {
     "data": {
      "text/plain": [
       "['imagination']"
      ]
     },
     "execution_count": 68,
     "metadata": {},
     "output_type": "execute_result"
    }
   ],
   "source": [
    "# optList = ['egipit', 'hlmrant', 'enopamo', 'agtmrs', 'aifhw', 'eintace', 'egryao', 'estfip', 'bdfleip', 'orsye', 'afsbdnw']\n",
    "\n",
    "wordbank = '''\n",
    "E\tH\tE\tA\t\tE\tE\tE\tB\tO\t\n",
    "G\tL\tN\tG\tA\tI\tG\tE\tD\tR\tA\n",
    "I\tM\tO\tG\tI\tN\tR\tS\tF\tS\tF\n",
    "P\tR\tP\tT\tI\tT\tY\tT\tL\tY\tS\n",
    "I\t\t\t\tF\tA\t\t\tE\t\tB\n",
    "I\tA\tA\tM\tH\tA\tA\t\tF\tE\tD\n",
    "T\tN\tM\tR\tI\tC\tE\tI\tI\tE\tN\n",
    "T\tT\tO\tS\tW\tE\tO\tL\tP\tY\tW\n",
    "'''\n",
    "\n",
    "optList = [''.join(row).lower() for row in np.array([s.split('\\t') for s in wordbank.strip().split('\\n')]).T]\n",
    "t.searchWithOptionsList(optList)"
   ]
  }
 ],
 "metadata": {
  "kernelspec": {
   "display_name": "Python 3 (ipykernel)",
   "language": "python",
   "name": "python3"
  },
  "language_info": {
   "codemirror_mode": {
    "name": "ipython",
    "version": 3
   },
   "file_extension": ".py",
   "mimetype": "text/x-python",
   "name": "python",
   "nbconvert_exporter": "python",
   "pygments_lexer": "ipython3",
   "version": "3.9.5"
  }
 },
 "nbformat": 4,
 "nbformat_minor": 5
}
